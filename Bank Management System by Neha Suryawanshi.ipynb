{
 "cells": [
  {
   "cell_type": "markdown",
   "metadata": {},
   "source": [
    "## <font color='magenta'>Bank Management System Using Inheritance</font>"
   ]
  },
  {
   "cell_type": "code",
   "execution_count": 50,
   "metadata": {},
   "outputs": [
    {
     "name": "stdout",
     "output_type": "stream",
     "text": [
      "Enter the amount to deposit = 5000\n",
      "Your New Balance =  5000\n",
      "Enter the amount to withdraw = 2000\n",
      "Your Remaining Balance =  3000\n",
      "Interest : 0.01\n",
      "Remaining Balance : 3000\n"
     ]
    }
   ],
   "source": [
    "class Account:\n",
    "        \n",
    "        interest = 0.02\n",
    "        def __init__(self, account_holder):\n",
    "            self.balance = 0\n",
    "            self.holder = account_holder\n",
    "        def deposit(self):\n",
    "            amount=int(input('Enter the amount to deposit = '))\n",
    "            self.balance += amount\n",
    "            print(\"Your New Balance = \", self.balance)\n",
    "        def withdraw(self):\n",
    "            amount=int(input('Enter the amount to withdraw = '))\n",
    "            if(amount > self.balance):\n",
    "                print('Insufficient Balance!')\n",
    "            else:\n",
    "                self.balance -= amount\n",
    "                print(\"Your Remaining Balance = \",self.balance)\n",
    "\n",
    "        \n",
    "class CheckingAccount(Account):\n",
    "        \n",
    "        withdraw_charge = 1\n",
    "        interest = 0.01\n",
    "        def withdraw(self):\n",
    "            return Account.withdraw(self)\n",
    "        \n",
    "checking = CheckingAccount('Neha')        \n",
    "checking.deposit()\n",
    "checking.withdraw()\n",
    "print(\"Interest :\",checking.interest)\n",
    "print(\"Remaining Balance :\",checking.balance)"
   ]
  },
  {
   "cell_type": "markdown",
   "metadata": {},
   "source": [
    "## <font color='magenta'>Bank Management System Using Class & Objects</font>"
   ]
  },
  {
   "cell_type": "code",
   "execution_count": 31,
   "metadata": {},
   "outputs": [
    {
     "name": "stdout",
     "output_type": "stream",
     "text": [
      "Your Account is Created.\n",
      "Enter the amount to deposit = 10000\n",
      "Your New Balance =  10000\n",
      "Enter the amount to withdraw = 3000\n",
      "Your Remaining Balance =  7000\n",
      "Your Balance =  7000\n"
     ]
    }
   ],
   "source": [
    "class Account:\n",
    "    def __init__(self):\n",
    "        self.balance=0\n",
    "        print('Your Account is Created.')\n",
    "    def deposit(self):\n",
    "        amount=int(input('Enter the amount to deposit = '))\n",
    "        self.balance += amount\n",
    "        print(\"Your New Balance = \", self.balance)\n",
    "    def withdraw(self):\n",
    "        amount=int(input('Enter the amount to withdraw = '))\n",
    "        if(amount > self.balance):\n",
    "            print('Insufficient Balance!')\n",
    "        else:\n",
    "            self.balance -= amount\n",
    "            print(\"Your Remaining Balance = \",self.balance)\n",
    "    def enquiry(self):\n",
    "        print(\"Your Balance = \",self.balance)\n",
    "        \n",
    "        \n",
    "account = Account()\n",
    "account.deposit()\n",
    "account.withdraw()\n",
    "account.enquiry()"
   ]
  },
  {
   "cell_type": "code",
   "execution_count": null,
   "metadata": {},
   "outputs": [],
   "source": []
  }
 ],
 "metadata": {
  "kernelspec": {
   "display_name": "Python 3",
   "language": "python",
   "name": "python3"
  },
  "language_info": {
   "codemirror_mode": {
    "name": "ipython",
    "version": 3
   },
   "file_extension": ".py",
   "mimetype": "text/x-python",
   "name": "python",
   "nbconvert_exporter": "python",
   "pygments_lexer": "ipython3",
   "version": "3.7.6"
  }
 },
 "nbformat": 4,
 "nbformat_minor": 4
}
